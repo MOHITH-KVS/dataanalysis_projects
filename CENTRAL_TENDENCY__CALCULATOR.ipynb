{
  "nbformat": 4,
  "nbformat_minor": 0,
  "metadata": {
    "colab": {
      "provenance": []
    },
    "kernelspec": {
      "name": "python3",
      "display_name": "Python 3"
    },
    "language_info": {
      "name": "python"
    }
  },
  "cells": [
    {
      "cell_type": "markdown",
      "source": [],
      "metadata": {
        "id": "EEgC_l1YPd9V"
      }
    },
    {
      "cell_type": "code",
      "execution_count": 11,
      "metadata": {
        "id": "rVGuCGHCL9_i"
      },
      "outputs": [],
      "source": [
        "import numpy as np\n"
      ]
    },
    {
      "cell_type": "code",
      "source": [
        "def calculate(input_list):\n",
        "  if len(input_list) != 9:\n",
        "    raise ValueError(\"List must contain nine numbers.\")\n",
        "\n",
        "  matrix = np.array(input_list).reshape(3,3)\n",
        "\n",
        "  mean = [matrix.mean(axis=0).tolist(), matrix.mean(axis=1).tolist(), matrix.mean()]\n",
        "  variance = [matrix.var(axis=0).tolist(), matrix.var(axis=1).tolist(), matrix.var()]\n",
        "  std_dev = [matrix.std(axis=0).tolist(), matrix.std(axis=1).tolist(), matrix.std()]\n",
        "  max_value = [matrix.max(axis=0).tolist(), matrix.max(axis=1).tolist(), matrix.max()]\n",
        "  min_value = [matrix.min(axis=0).tolist(), matrix.min(axis=1).tolist(), matrix.min()]\n",
        "  total_sum = [matrix.sum(axis=0).tolist(), matrix.sum(axis=1).tolist(), matrix.sum()]\n",
        "\n",
        "  return {\n",
        "    'matrix': matrix,\n",
        "    'mean': mean,\n",
        "    'variance': variance,\n",
        "    'std_dev': std_dev,\n",
        "    'max_value': max_value,\n",
        "    'min_value': min_value,\n",
        "    'total_sum': total_sum\n",
        "  }\n",
        "\n",
        "if __name__ == '__main__':\n",
        "     try:\n",
        "         user_input = input(\"Enter nine numbers separated by spaces: \")\n",
        "         input_list = list(map(float, user_input.split()))\n",
        "\n",
        "         result = calculate(input_list)\n",
        "\n",
        "         print(result['matrix'])\n",
        "\n",
        "         print(\"Mean:\", result['mean'])\n",
        "         print(\"Variance:\", result['variance'])\n",
        "         print(\"Standard Deviation:\", result['std_dev'])\n",
        "         print(\"Max:\", result['max_value'])\n",
        "         print(\"Min:\", result['min_value'])\n",
        "         print(\"Sum:\", result['total_sum'])\n",
        "     except ValueError as e:\n",
        "        print(e)\n"
      ],
      "metadata": {
        "colab": {
          "base_uri": "https://localhost:8080/"
        },
        "id": "0rDIcJN-PctZ",
        "outputId": "4a539581-20a6-4dac-cf50-470c407bb635"
      },
      "execution_count": 28,
      "outputs": [
        {
          "output_type": "stream",
          "name": "stdout",
          "text": [
            "Enter nine numbers separated by spaces: 1\n",
            "List must contain nine numbers.\n"
          ]
        }
      ]
    }
  ]
}